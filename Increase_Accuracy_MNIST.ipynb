{
 "cells": [
  {
   "cell_type": "code",
   "execution_count": 3,
   "id": "selected-montana",
   "metadata": {},
   "outputs": [
    {
     "ename": "ModuleNotFoundError",
     "evalue": "No module named 'numpy'",
     "output_type": "error",
     "traceback": [
      "\u001b[0;31m---------------------------------------------------------------------------\u001b[0m",
      "\u001b[0;31mModuleNotFoundError\u001b[0m                       Traceback (most recent call last)",
      "\u001b[1;32m/Users/jaym9000/Desktop/Programming/unb-projects/neural-network/Increase_Accuracy_MNIST.ipynb Cell 1'\u001b[0m in \u001b[0;36m<cell line: 1>\u001b[0;34m()\u001b[0m\n\u001b[0;32m----> <a href='vscode-notebook-cell:/Users/jaym9000/Desktop/Programming/unb-projects/neural-network/Increase_Accuracy_MNIST.ipynb#ch0000000?line=0'>1</a>\u001b[0m \u001b[39mimport\u001b[39;00m \u001b[39mnumpy\u001b[39;00m \u001b[39mas\u001b[39;00m \u001b[39mnp\u001b[39;00m\n\u001b[1;32m      <a href='vscode-notebook-cell:/Users/jaym9000/Desktop/Programming/unb-projects/neural-network/Increase_Accuracy_MNIST.ipynb#ch0000000?line=1'>2</a>\u001b[0m \u001b[39mimport\u001b[39;00m \u001b[39mpandas\u001b[39;00m \u001b[39mas\u001b[39;00m \u001b[39mpd\u001b[39;00m\n\u001b[1;32m      <a href='vscode-notebook-cell:/Users/jaym9000/Desktop/Programming/unb-projects/neural-network/Increase_Accuracy_MNIST.ipynb#ch0000000?line=2'>3</a>\u001b[0m \u001b[39mfrom\u001b[39;00m \u001b[39mmatplotlib\u001b[39;00m \u001b[39mimport\u001b[39;00m pyplot \u001b[39mas\u001b[39;00m plt\n",
      "\u001b[0;31mModuleNotFoundError\u001b[0m: No module named 'numpy'"
     ]
    }
   ],
   "source": [
    "import numpy as np\n",
    "import pandas as pd\n",
    "from matplotlib import pyplot as plt\n",
    "\n",
    "#add train.csv's path from your own device below\n",
    "data = pd.read_csv('/Users/jaym9000/Desktop/Programming/unb-projects/neural-network/train.csv') \n"
   ]
  },
  {
   "cell_type": "code",
   "execution_count": null,
   "id": "scheduled-lecture",
   "metadata": {},
   "outputs": [],
   "source": [
    "data = np.array(data)\n",
    "m, n = data.shape\n",
    "np.random.shuffle(data) # shuffle before splitting into dev and training sets\n",
    "\n",
    "data_dev = data[0:1000].T\n",
    "Y_dev = data_dev[0]\n",
    "X_dev = data_dev[1:n]\n",
    "X_dev = X_dev / 255.\n",
    "\n",
    "data_train = data[1000:m].T\n",
    "Y_train = data_train[0]\n",
    "X_train = data_train[1:n]\n",
    "X_train = X_train / 255.\n",
    "_,m_train = X_train.shape"
   ]
  },
  {
   "cell_type": "code",
   "execution_count": null,
   "id": "floral-original",
   "metadata": {},
   "outputs": [
    {
     "data": {
      "text/plain": [
       "array([5, 0, 9, ..., 3, 2, 4])"
      ]
     },
     "execution_count": 4,
     "metadata": {},
     "output_type": "execute_result"
    }
   ],
   "source": [
    "Y_train"
   ]
  },
  {
   "cell_type": "code",
   "execution_count": null,
   "id": "demanding-divide",
   "metadata": {},
   "outputs": [],
   "source": [
    "\n",
    "def init_params():\n",
    "    W1 = np.random.rand(10, 784) - 0.5\n",
    "    b1 = np.random.rand(10, 1) - 0.5\n",
    "    W2 = np.random.rand(10, 10) - 0.5\n",
    "    b2 = np.random.rand(10, 1) - 0.5\n",
    "    return W1, b1, W2, b2\n",
    "\n",
    "def ReLU(Z):\n",
    "    return np.maximum(Z, 0)\n",
    "\n",
    "def softmax(Z):\n",
    "    A = np.exp(Z) / sum(np.exp(Z))\n",
    "    return A\n",
    "    \n",
    "def forward_prop(W1, b1, W2, b2, X):\n",
    "    Z1 = W1.dot(X) + b1\n",
    "    A1 = ReLU(Z1)\n",
    "    Z2 = W2.dot(A1) + b2\n",
    "    A2 = softmax(Z2)\n",
    "    return Z1, A1, Z2, A2\n",
    "\n",
    "def ReLU_deriv(Z):\n",
    "    return Z > 0\n",
    "\n",
    "def one_hot(Y):\n",
    "    one_hot_Y = np.zeros((Y.size, Y.max() + 1))\n",
    "    one_hot_Y[np.arange(Y.size), Y] = 1\n",
    "    one_hot_Y = one_hot_Y.T\n",
    "    return one_hot_Y\n",
    "\n",
    "def backward_prop(Z1, A1, Z2, A2, W1, W2, X, Y):\n",
    "    one_hot_Y = one_hot(Y)\n",
    "    dZ2 = A2 - one_hot_Y\n",
    "    dW2 = 1 / m * dZ2.dot(A1.T)\n",
    "    db2 = 1 / m * np.sum(dZ2)\n",
    "    dZ1 = W2.T.dot(dZ2) * ReLU_deriv(Z1)\n",
    "    dW1 = 1 / m * dZ1.dot(X.T)\n",
    "    db1 = 1 / m * np.sum(dZ1)\n",
    "    return dW1, db1, dW2, db2\n",
    "\n",
    "def update_params(W1, b1, W2, b2, dW1, db1, dW2, db2, alpha):\n",
    "    W1 = W1 - alpha * dW1\n",
    "    b1 = b1 - alpha * db1    \n",
    "    W2 = W2 - alpha * dW2  \n",
    "    b2 = b2 - alpha * db2    \n",
    "    return W1, b1, W2, b2"
   ]
  },
  {
   "cell_type": "code",
   "execution_count": null,
   "id": "demographic-nancy",
   "metadata": {},
   "outputs": [],
   "source": [
    "def get_predictions(A2):\n",
    "    return np.argmax(A2, 0)\n",
    "\n",
    "def get_accuracy(predictions, Y):\n",
    "    print(predictions, Y)\n",
    "    return np.sum(predictions == Y) / Y.size\n",
    "\n",
    "def gradient_descent(X, Y, alpha, iterations):\n",
    "    W1, b1, W2, b2 = init_params()\n",
    "    for i in range(iterations):\n",
    "        Z1, A1, Z2, A2 = forward_prop(W1, b1, W2, b2, X)\n",
    "        dW1, db1, dW2, db2 = backward_prop(Z1, A1, Z2, A2, W1, W2, X, Y)\n",
    "        W1, b1, W2, b2 = update_params(W1, b1, W2, b2, dW1, db1, dW2, db2, alpha)\n",
    "        if i % 10 == 0:\n",
    "            print(\"Iteration: \", i)\n",
    "            predictions = get_predictions(A2)\n",
    "            print(get_accuracy(predictions, Y))\n",
    "    return W1, b1, W2, b2"
   ]
  },
  {
   "cell_type": "code",
   "execution_count": null,
   "id": "spatial-dylan",
   "metadata": {},
   "outputs": [
    {
     "name": "stdout",
     "output_type": "stream",
     "text": [
      "Iteration:  0\n",
      "[7 6 6 ... 6 4 6] [5 0 9 ... 3 2 4]\n",
      "0.13502439024390245\n",
      "Iteration:  10\n",
      "[7 3 4 ... 9 4 5] [5 0 9 ... 3 2 4]\n",
      "0.24521951219512195\n",
      "Iteration:  20\n",
      "[7 0 4 ... 9 4 5] [5 0 9 ... 3 2 4]\n",
      "0.35721951219512194\n",
      "Iteration:  30\n",
      "[7 0 4 ... 9 4 5] [5 0 9 ... 3 2 4]\n",
      "0.43141463414634146\n",
      "Iteration:  40\n",
      "[7 0 4 ... 9 4 4] [5 0 9 ... 3 2 4]\n",
      "0.48797560975609755\n",
      "Iteration:  50\n",
      "[4 0 4 ... 9 4 4] [5 0 9 ... 3 2 4]\n",
      "0.534829268292683\n",
      "Iteration:  60\n",
      "[4 0 9 ... 3 8 4] [5 0 9 ... 3 2 4]\n",
      "0.5756829268292682\n",
      "Iteration:  70\n",
      "[4 0 9 ... 3 8 4] [5 0 9 ... 3 2 4]\n",
      "0.6095365853658536\n",
      "Iteration:  80\n",
      "[4 0 9 ... 3 8 4] [5 0 9 ... 3 2 4]\n",
      "0.6397560975609756\n",
      "Iteration:  90\n",
      "[4 0 9 ... 3 8 4] [5 0 9 ... 3 2 4]\n",
      "0.6659756097560976\n",
      "Iteration:  100\n",
      "[4 0 9 ... 3 8 4] [5 0 9 ... 3 2 4]\n",
      "0.6865609756097562\n",
      "Iteration:  110\n",
      "[4 0 9 ... 3 8 4] [5 0 9 ... 3 2 4]\n",
      "0.7041219512195122\n",
      "Iteration:  120\n",
      "[4 0 9 ... 3 2 4] [5 0 9 ... 3 2 4]\n",
      "0.7195121951219512\n",
      "Iteration:  130\n",
      "[4 0 9 ... 3 2 9] [5 0 9 ... 3 2 4]\n",
      "0.7324390243902439\n",
      "Iteration:  140\n",
      "[4 0 9 ... 3 2 9] [5 0 9 ... 3 2 4]\n",
      "0.7439512195121951\n",
      "Iteration:  150\n",
      "[4 0 9 ... 3 2 9] [5 0 9 ... 3 2 4]\n",
      "0.7540487804878049\n",
      "Iteration:  160\n",
      "[4 0 9 ... 3 2 9] [5 0 9 ... 3 2 4]\n",
      "0.7641463414634146\n",
      "Iteration:  170\n",
      "[4 0 9 ... 3 2 9] [5 0 9 ... 3 2 4]\n",
      "0.7719756097560976\n",
      "Iteration:  180\n",
      "[4 0 9 ... 3 2 9] [5 0 9 ... 3 2 4]\n",
      "0.7790731707317073\n",
      "Iteration:  190\n",
      "[4 0 9 ... 3 2 9] [5 0 9 ... 3 2 4]\n",
      "0.7852682926829269\n",
      "Iteration:  200\n",
      "[4 0 9 ... 3 2 9] [5 0 9 ... 3 2 4]\n",
      "0.7919024390243903\n",
      "Iteration:  210\n",
      "[6 0 9 ... 3 2 9] [5 0 9 ... 3 2 4]\n",
      "0.7966585365853659\n",
      "Iteration:  220\n",
      "[6 0 9 ... 3 2 9] [5 0 9 ... 3 2 4]\n",
      "0.8014878048780488\n",
      "Iteration:  230\n",
      "[6 0 9 ... 3 2 9] [5 0 9 ... 3 2 4]\n",
      "0.806829268292683\n",
      "Iteration:  240\n",
      "[6 0 9 ... 3 2 9] [5 0 9 ... 3 2 4]\n",
      "0.8108536585365854\n",
      "Iteration:  250\n",
      "[6 0 9 ... 3 2 9] [5 0 9 ... 3 2 4]\n",
      "0.815170731707317\n",
      "Iteration:  260\n",
      "[6 0 9 ... 3 2 9] [5 0 9 ... 3 2 4]\n",
      "0.8182439024390243\n",
      "Iteration:  270\n",
      "[6 0 9 ... 3 2 9] [5 0 9 ... 3 2 4]\n",
      "0.8214146341463414\n",
      "Iteration:  280\n",
      "[6 0 9 ... 3 2 9] [5 0 9 ... 3 2 4]\n",
      "0.824780487804878\n",
      "Iteration:  290\n",
      "[6 0 9 ... 3 2 9] [5 0 9 ... 3 2 4]\n",
      "0.8278048780487804\n",
      "Iteration:  300\n",
      "[6 0 9 ... 3 2 9] [5 0 9 ... 3 2 4]\n",
      "0.8303170731707317\n",
      "Iteration:  310\n",
      "[6 0 9 ... 3 2 9] [5 0 9 ... 3 2 4]\n",
      "0.8324878048780487\n",
      "Iteration:  320\n",
      "[6 0 9 ... 3 2 9] [5 0 9 ... 3 2 4]\n",
      "0.8349268292682926\n",
      "Iteration:  330\n",
      "[6 0 9 ... 3 2 9] [5 0 9 ... 3 2 4]\n",
      "0.8370487804878048\n",
      "Iteration:  340\n",
      "[6 0 9 ... 3 2 9] [5 0 9 ... 3 2 4]\n",
      "0.8389024390243902\n",
      "Iteration:  350\n",
      "[6 0 9 ... 3 2 9] [5 0 9 ... 3 2 4]\n",
      "0.8402926829268292\n",
      "Iteration:  360\n",
      "[6 0 9 ... 3 2 9] [5 0 9 ... 3 2 4]\n",
      "0.8420243902439024\n",
      "Iteration:  370\n",
      "[6 0 9 ... 3 2 9] [5 0 9 ... 3 2 4]\n",
      "0.8437073170731707\n",
      "Iteration:  380\n",
      "[6 0 9 ... 3 2 9] [5 0 9 ... 3 2 4]\n",
      "0.845170731707317\n",
      "Iteration:  390\n",
      "[6 0 9 ... 3 2 9] [5 0 9 ... 3 2 4]\n",
      "0.847\n",
      "Iteration:  400\n",
      "[6 0 9 ... 3 2 4] [5 0 9 ... 3 2 4]\n",
      "0.8486341463414634\n",
      "Iteration:  410\n",
      "[6 0 9 ... 3 2 4] [5 0 9 ... 3 2 4]\n",
      "0.8500243902439024\n",
      "Iteration:  420\n",
      "[6 0 9 ... 3 2 4] [5 0 9 ... 3 2 4]\n",
      "0.8514878048780488\n",
      "Iteration:  430\n",
      "[6 0 9 ... 3 2 4] [5 0 9 ... 3 2 4]\n",
      "0.8526585365853658\n",
      "Iteration:  440\n",
      "[6 0 9 ... 3 2 4] [5 0 9 ... 3 2 4]\n",
      "0.8541463414634146\n",
      "Iteration:  450\n",
      "[6 0 9 ... 3 2 4] [5 0 9 ... 3 2 4]\n",
      "0.8554878048780488\n",
      "Iteration:  460\n",
      "[6 0 9 ... 3 2 4] [5 0 9 ... 3 2 4]\n",
      "0.8569024390243902\n",
      "Iteration:  470\n",
      "[6 0 9 ... 3 2 4] [5 0 9 ... 3 2 4]\n",
      "0.858\n",
      "Iteration:  480\n",
      "[6 0 9 ... 3 2 4] [5 0 9 ... 3 2 4]\n",
      "0.8589512195121951\n",
      "Iteration:  490\n",
      "[6 0 9 ... 3 2 4] [5 0 9 ... 3 2 4]\n",
      "0.8600975609756097\n"
     ]
    }
   ],
   "source": [
    "W1, b1, W2, b2 = gradient_descent(X_train, Y_train, 0.10, 500)"
   ]
  },
  {
   "cell_type": "code",
   "execution_count": null,
   "id": "angry-keeping",
   "metadata": {},
   "outputs": [],
   "source": [
    "def make_predictions(X, W1, b1, W2, b2):\n",
    "    _, _, _, A2 = forward_prop(W1, b1, W2, b2, X)\n",
    "    predictions = get_predictions(A2)\n",
    "    return predictions\n",
    "\n",
    "def test_prediction(index, W1, b1, W2, b2):\n",
    "    current_image = X_train[:, index, None]\n",
    "    prediction = make_predictions(X_train[:, index, None], W1, b1, W2, b2)\n",
    "    label = Y_train[index]\n",
    "    print(\"Prediction: \", prediction)\n",
    "    print(\"Label: \", label)\n",
    "    \n",
    "    current_image = current_image.reshape((28, 28)) * 255\n",
    "    plt.gray()\n",
    "    plt.imshow(current_image, interpolation='nearest')\n",
    "    plt.show()"
   ]
  },
  {
   "cell_type": "code",
   "execution_count": null,
   "id": "emotional-apparel",
   "metadata": {
    "scrolled": true
   },
   "outputs": [
    {
     "name": "stdout",
     "output_type": "stream",
     "text": [
      "Prediction:  [4]\n",
      "Label:  5\n"
     ]
    },
    {
     "data": {
      "image/png": "[encoded data removed]",
      "text/plain": [
       "<Figure size 432x288 with 1 Axes>"
      ]
     },
     "metadata": {
      "needs_background": "light"
     },
     "output_type": "display_data"
    },
    {
     "name": "stdout",
     "output_type": "stream",
     "text": [
      "Prediction:  [0]\n",
      "Label:  0\n"
     ]
    },
    {
     "data": {
      "image/png": "[encoded data removed]",
      "text/plain": [
       "<Figure size 432x288 with 1 Axes>"
      ]
     },
     "metadata": {
      "needs_background": "light"
     },
     "output_type": "display_data"
    },
    {
     "name": "stdout",
     "output_type": "stream",
     "text": [
      "Prediction:  [9]\n",
      "Label:  9\n"
     ]
    },
    {
     "data": {
      "image/png": "[encoded data removed]",
      "text/plain": [
       "<Figure size 432x288 with 1 Axes>"
      ]
     },
     "metadata": {
      "needs_background": "light"
     },
     "output_type": "display_data"
    },
    {
     "name": "stdout",
     "output_type": "stream",
     "text": [
      "Prediction:  [0]\n",
      "Label:  2\n"
     ]
    },
    {
     "data": {
      "image/png": "[encoded data removed]",
      "text/plain": [
       "<Figure size 432x288 with 1 Axes>"
      ]
     },
     "metadata": {
      "needs_background": "light"
     },
     "output_type": "display_data"
    },
    {
     "name": "stdout",
     "output_type": "stream",
     "text": [
      "Prediction:  [5]\n",
      "Label:  5\n"
     ]
    },
    {
     "data": {
      "image/png": "[encoded data removed]",
      "text/plain": [
       "<Figure size 432x288 with 1 Axes>"
      ]
     },
     "metadata": {
      "needs_background": "light"
     },
     "output_type": "display_data"
    },
    {
     "name": "stdout",
     "output_type": "stream",
     "text": [
      "Prediction:  [5]\n",
      "Label:  0\n"
     ]
    },
    {
     "data": {
      "image/png": "[encoded data removed]",
      "text/plain": [
       "<Figure size 432x288 with 1 Axes>"
      ]
     },
     "metadata": {
      "needs_background": "light"
     },
     "output_type": "display_data"
    },
    {
     "name": "stdout",
     "output_type": "stream",
     "text": [
      "Prediction:  [7]\n",
      "Label:  9\n"
     ]
    },
    {
     "data": {
      "image/png": "[encoded data removed]",
      "text/plain": [
       "<Figure size 432x288 with 1 Axes>"
      ]
     },
     "metadata": {
      "needs_background": "light"
     },
     "output_type": "display_data"
    },
    {
     "name": "stdout",
     "output_type": "stream",
     "text": [
      "Prediction:  [2]\n",
      "Label:  9\n"
     ]
    },
    {
     "data": {
      "image/png": "[encoded data removed]",
      "text/plain": [
       "<Figure size 432x288 with 1 Axes>"
      ]
     },
     "metadata": {
      "needs_background": "light"
     },
     "output_type": "display_data"
    },
    {
     "name": "stdout",
     "output_type": "stream",
     "text": [
      "Prediction:  [9]\n",
      "Label:  4\n"
     ]
    },
    {
     "data": {
      "image/png": "[encoded data removed]",
      "text/plain": [
       "<Figure size 432x288 with 1 Axes>"
      ]
     },
     "metadata": {
      "needs_background": "light"
     },
     "output_type": "display_data"
    },
    {
     "name": "stdout",
     "output_type": "stream",
     "text": [
      "Prediction:  [6]\n",
      "Label:  6\n"
     ]
    },
    {
     "data": {
      "image/png": "[encoded data removed]",
      "text/plain": [
       "<Figure size 432x288 with 1 Axes>"
      ]
     },
     "metadata": {
      "needs_background": "light"
     },
     "output_type": "display_data"
    }
   ],
   "source": [
    "test_prediction(0, W1, b1, W2, b2)\n",
    "test_prediction(1, W1, b1, W2, b2)\n",
    "test_prediction(2, W1, b1, W2, b2)\n",
    "test_prediction(3, W1, b1, W2, b2)\n",
    "test_prediction(4, W1, b1, W2, b2)\n",
    "test_prediction(5, W1, b1, W2, b2)\n",
    "test_prediction(6, W1, b1, W2, b2)\n",
    "test_prediction(7, W1, b1, W2, b2)\n",
    "test_prediction(8, W1, b1, W2, b2)\n",
    "test_prediction(9, W1, b1, W2, b2)"
   ]
  },
  {
   "cell_type": "code",
   "execution_count": null,
   "id": "expired-cycling",
   "metadata": {},
   "outputs": [],
   "source": [
    "def get_predictions(A2):\n",
    "    return np.argmax(A2, 0)\n",
    "\n",
    "def get_accuracy(predictions, Y):\n",
    "    print(predictions, Y)\n",
    "    return np.sum(predictions == Y) / Y.size\n",
    "\n",
    "def gradient_descent(X, Y, alpha, iterations):\n",
    "    W1, b1, W2, b2 = init_params()\n",
    "    for i in range(iterations):\n",
    "        Z1, A1, Z2, A2 = forward_prop(W1, b1, W2, b2, X)\n",
    "        dW1, db1, dW2, db2 = backward_prop(Z1, A1, Z2, A2, W1, W2, X, Y)\n",
    "        W1, b1, W2, b2 = update_params(W1, b1, W2, b2, dW1, db1, dW2, db2, alpha)\n",
    "        if i % 10 == 0:\n",
    "            print(\"Iteration: \", i)\n",
    "            predictions = get_predictions(A2)\n",
    "            print(get_accuracy(predictions, Y))\n",
    "    return W1, b1, W2, b2"
   ]
  },
  {
   "cell_type": "code",
   "execution_count": null,
   "id": "material-positive",
   "metadata": {
    "scrolled": true
   },
   "outputs": [
    {
     "name": "stdout",
     "output_type": "stream",
     "text": [
      "Iteration:  0\n",
      "[6 6 5 ... 6 6 6] [5 0 9 ... 3 2 4]\n",
      "0.1074390243902439\n",
      "Iteration:  10\n",
      "[6 8 8 ... 6 2 4] [5 0 9 ... 3 2 4]\n",
      "0.19019512195121951\n",
      "Iteration:  20\n",
      "[6 8 8 ... 6 2 4] [5 0 9 ... 3 2 4]\n",
      "0.23953658536585365\n",
      "Iteration:  30\n",
      "[6 0 8 ... 6 2 4] [5 0 9 ... 3 2 4]\n",
      "0.2841951219512195\n",
      "Iteration:  40\n",
      "[6 0 4 ... 6 2 4] [5 0 9 ... 3 2 4]\n",
      "0.3300487804878049\n",
      "Iteration:  50\n",
      "[6 0 4 ... 3 2 4] [5 0 9 ... 3 2 4]\n",
      "0.3751707317073171\n",
      "Iteration:  60\n",
      "[6 0 4 ... 3 2 4] [5 0 9 ... 3 2 4]\n",
      "0.4496341463414634\n",
      "Iteration:  70\n",
      "[4 0 4 ... 3 2 4] [5 0 9 ... 3 2 4]\n",
      "0.5115365853658537\n",
      "Iteration:  80\n",
      "[4 0 4 ... 3 2 4] [5 0 9 ... 3 2 4]\n",
      "0.5502439024390244\n",
      "Iteration:  90\n",
      "[4 0 4 ... 3 2 4] [5 0 9 ... 3 2 4]\n",
      "0.5809268292682926\n",
      "Iteration:  100\n",
      "[4 0 9 ... 3 2 4] [5 0 9 ... 3 2 4]\n",
      "0.6068048780487805\n",
      "Iteration:  110\n",
      "[4 0 9 ... 3 2 4] [5 0 9 ... 3 2 4]\n",
      "0.629\n",
      "Iteration:  120\n",
      "[4 0 9 ... 3 2 4] [5 0 9 ... 3 2 4]\n",
      "0.6485365853658537\n",
      "Iteration:  130\n",
      "[4 0 9 ... 3 2 4] [5 0 9 ... 3 2 4]\n",
      "0.6644390243902439\n",
      "Iteration:  140\n",
      "[4 0 9 ... 3 2 4] [5 0 9 ... 3 2 4]\n",
      "0.6791463414634147\n",
      "Iteration:  150\n",
      "[4 0 9 ... 3 2 4] [5 0 9 ... 3 2 4]\n",
      "0.6937317073170731\n",
      "Iteration:  160\n",
      "[4 0 9 ... 3 2 4] [5 0 9 ... 3 2 4]\n",
      "0.7059268292682926\n",
      "Iteration:  170\n",
      "[4 0 9 ... 3 2 4] [5 0 9 ... 3 2 4]\n",
      "0.7175121951219512\n",
      "Iteration:  180\n",
      "[4 0 9 ... 3 2 4] [5 0 9 ... 3 2 4]\n",
      "0.7278536585365853\n",
      "Iteration:  190\n",
      "[6 0 9 ... 3 2 4] [5 0 9 ... 3 2 4]\n",
      "0.737780487804878\n",
      "Iteration:  200\n",
      "[6 0 9 ... 3 2 4] [5 0 9 ... 3 2 4]\n",
      "0.7462682926829268\n",
      "Iteration:  210\n",
      "[6 0 9 ... 3 2 4] [5 0 9 ... 3 2 4]\n",
      "0.753780487804878\n",
      "Iteration:  220\n",
      "[6 0 9 ... 3 2 4] [5 0 9 ... 3 2 4]\n",
      "0.761\n",
      "Iteration:  230\n",
      "[6 0 9 ... 3 2 4] [5 0 9 ... 3 2 4]\n",
      "0.7684878048780488\n",
      "Iteration:  240\n",
      "[6 0 9 ... 3 2 4] [5 0 9 ... 3 2 4]\n",
      "0.7740243902439025\n",
      "Iteration:  250\n",
      "[6 0 9 ... 3 2 4] [5 0 9 ... 3 2 4]\n",
      "0.7789024390243903\n",
      "Iteration:  260\n",
      "[6 0 9 ... 3 2 4] [5 0 9 ... 3 2 4]\n",
      "0.784\n",
      "Iteration:  270\n",
      "[6 0 9 ... 3 2 4] [5 0 9 ... 3 2 4]\n",
      "0.7887560975609756\n",
      "Iteration:  280\n",
      "[6 0 9 ... 3 2 4] [5 0 9 ... 3 2 4]\n",
      "0.7931463414634147\n",
      "Iteration:  290\n",
      "[6 0 9 ... 3 2 4] [5 0 9 ... 3 2 4]\n",
      "0.7971219512195122\n",
      "Iteration:  300\n",
      "[6 0 9 ... 3 2 4] [5 0 9 ... 3 2 4]\n",
      "0.8004146341463415\n",
      "Iteration:  310\n",
      "[6 0 9 ... 3 2 4] [5 0 9 ... 3 2 4]\n",
      "0.8037560975609757\n",
      "Iteration:  320\n",
      "[6 0 9 ... 3 2 4] [5 0 9 ... 3 2 4]\n",
      "0.8070243902439025\n",
      "Iteration:  330\n",
      "[6 0 9 ... 3 2 4] [5 0 9 ... 3 2 4]\n",
      "0.8104878048780488\n",
      "Iteration:  340\n",
      "[6 0 9 ... 3 2 4] [5 0 9 ... 3 2 4]\n",
      "0.8137560975609756\n",
      "Iteration:  350\n",
      "[6 0 9 ... 3 2 4] [5 0 9 ... 3 2 4]\n",
      "0.8165121951219512\n",
      "Iteration:  360\n",
      "[6 0 9 ... 3 2 4] [5 0 9 ... 3 2 4]\n",
      "0.819\n",
      "Iteration:  370\n",
      "[6 0 9 ... 3 2 4] [5 0 9 ... 3 2 4]\n",
      "0.8216341463414634\n",
      "Iteration:  380\n",
      "[6 0 9 ... 3 2 4] [5 0 9 ... 3 2 4]\n",
      "0.8246097560975609\n",
      "Iteration:  390\n",
      "[6 0 9 ... 3 2 4] [5 0 9 ... 3 2 4]\n",
      "0.8274390243902439\n",
      "Iteration:  400\n",
      "[6 0 9 ... 3 2 4] [5 0 9 ... 3 2 4]\n",
      "0.8294634146341463\n",
      "Iteration:  410\n",
      "[6 0 9 ... 3 2 4] [5 0 9 ... 3 2 4]\n",
      "0.8318048780487804\n",
      "Iteration:  420\n",
      "[6 0 9 ... 3 2 4] [5 0 9 ... 3 2 4]\n",
      "0.833390243902439\n",
      "Iteration:  430\n",
      "[6 0 9 ... 3 2 4] [5 0 9 ... 3 2 4]\n",
      "0.8354878048780487\n",
      "Iteration:  440\n",
      "[6 0 9 ... 3 2 4] [5 0 9 ... 3 2 4]\n",
      "0.8372682926829268\n",
      "Iteration:  450\n",
      "[6 0 9 ... 3 2 4] [5 0 9 ... 3 2 4]\n",
      "0.8391951219512195\n",
      "Iteration:  460\n",
      "[6 0 9 ... 3 2 4] [5 0 9 ... 3 2 4]\n",
      "0.8407317073170731\n",
      "Iteration:  470\n",
      "[6 0 9 ... 3 2 4] [5 0 9 ... 3 2 4]\n",
      "0.8419024390243902\n",
      "Iteration:  480\n",
      "[6 0 9 ... 3 2 4] [5 0 9 ... 3 2 4]\n",
      "0.843170731707317\n",
      "Iteration:  490\n",
      "[6 0 9 ... 3 2 4] [5 0 9 ... 3 2 4]\n",
      "0.8445853658536585\n",
      "Iteration:  500\n",
      "[6 0 9 ... 3 2 4] [5 0 9 ... 3 2 4]\n",
      "0.8459268292682927\n",
      "Iteration:  510\n",
      "[6 0 9 ... 3 2 4] [5 0 9 ... 3 2 4]\n",
      "0.847170731707317\n",
      "Iteration:  520\n",
      "[6 0 9 ... 3 2 4] [5 0 9 ... 3 2 4]\n",
      "0.8483170731707317\n",
      "Iteration:  530\n",
      "[6 0 9 ... 3 2 4] [5 0 9 ... 3 2 4]\n",
      "0.849780487804878\n",
      "Iteration:  540\n",
      "[6 0 9 ... 3 2 4] [5 0 9 ... 3 2 4]\n",
      "0.851\n",
      "Iteration:  550\n",
      "[6 0 9 ... 3 2 4] [5 0 9 ... 3 2 4]\n",
      "0.8520731707317073\n",
      "Iteration:  560\n",
      "[6 0 9 ... 3 2 4] [5 0 9 ... 3 2 4]\n",
      "0.8532195121951219\n",
      "Iteration:  570\n",
      "[6 0 9 ... 3 2 4] [5 0 9 ... 3 2 4]\n",
      "0.8542926829268292\n",
      "Iteration:  580\n",
      "[6 0 9 ... 3 2 4] [5 0 9 ... 3 2 4]\n",
      "0.855390243902439\n",
      "Iteration:  590\n",
      "[6 0 9 ... 3 2 4] [5 0 9 ... 3 2 4]\n",
      "0.8563414634146341\n",
      "Iteration:  600\n",
      "[6 0 9 ... 3 2 4] [5 0 9 ... 3 2 4]\n",
      "0.8572926829268293\n",
      "Iteration:  610\n",
      "[6 0 9 ... 3 2 4] [5 0 9 ... 3 2 4]\n",
      "0.8577317073170732\n",
      "Iteration:  620\n",
      "[6 0 9 ... 3 2 4] [5 0 9 ... 3 2 4]\n",
      "0.859\n",
      "Iteration:  630\n",
      "[6 0 9 ... 3 2 4] [5 0 9 ... 3 2 4]\n",
      "0.8602439024390244\n",
      "Iteration:  640\n",
      "[6 0 9 ... 3 2 4] [5 0 9 ... 3 2 4]\n",
      "0.8612439024390244\n",
      "Iteration:  650\n",
      "[6 0 9 ... 3 2 4] [5 0 9 ... 3 2 4]\n",
      "0.8618780487804878\n",
      "Iteration:  660\n",
      "[6 0 9 ... 3 2 4] [5 0 9 ... 3 2 4]\n",
      "0.8626341463414634\n",
      "Iteration:  670\n",
      "[6 0 9 ... 3 2 4] [5 0 9 ... 3 2 4]\n",
      "0.8632439024390244\n",
      "Iteration:  680\n",
      "[6 0 9 ... 3 2 4] [5 0 9 ... 3 2 4]\n",
      "0.8638292682926829\n",
      "Iteration:  690\n",
      "[6 0 9 ... 3 2 4] [5 0 9 ... 3 2 4]\n",
      "0.864390243902439\n",
      "Iteration:  700\n",
      "[6 0 9 ... 3 2 4] [5 0 9 ... 3 2 4]\n",
      "0.8651219512195122\n",
      "Iteration:  710\n",
      "[6 0 9 ... 3 2 4] [5 0 9 ... 3 2 4]\n",
      "0.8660731707317073\n",
      "Iteration:  720\n",
      "[6 0 9 ... 3 2 4] [5 0 9 ... 3 2 4]\n",
      "0.8669756097560976\n",
      "Iteration:  730\n",
      "[6 0 9 ... 3 2 4] [5 0 9 ... 3 2 4]\n",
      "0.8675609756097561\n",
      "Iteration:  740\n",
      "[6 0 9 ... 3 2 4] [5 0 9 ... 3 2 4]\n",
      "0.8684390243902439\n",
      "Iteration:  750\n",
      "[6 0 9 ... 3 2 4] [5 0 9 ... 3 2 4]\n",
      "0.8691463414634146\n",
      "Iteration:  760\n",
      "[6 0 9 ... 3 2 4] [5 0 9 ... 3 2 4]\n",
      "0.8698536585365854\n",
      "Iteration:  770\n",
      "[6 0 9 ... 3 2 4] [5 0 9 ... 3 2 4]\n",
      "0.870219512195122\n",
      "Iteration:  780\n",
      "[6 0 9 ... 3 2 4] [5 0 9 ... 3 2 4]\n",
      "0.8709512195121951\n",
      "Iteration:  790\n",
      "[6 0 9 ... 3 2 4] [5 0 9 ... 3 2 4]\n",
      "0.8714146341463415\n",
      "Iteration:  800\n",
      "[6 0 9 ... 3 2 4] [5 0 9 ... 3 2 4]\n",
      "0.8720975609756098\n",
      "Iteration:  810\n",
      "[6 0 9 ... 3 2 4] [5 0 9 ... 3 2 4]\n",
      "0.8727317073170732\n",
      "Iteration:  820\n",
      "[6 0 9 ... 3 2 4] [5 0 9 ... 3 2 4]\n",
      "0.8733170731707317\n",
      "Iteration:  830\n",
      "[6 0 9 ... 3 2 4] [5 0 9 ... 3 2 4]\n",
      "0.8736585365853659\n",
      "Iteration:  840\n",
      "[6 0 9 ... 3 2 4] [5 0 9 ... 3 2 4]\n",
      "0.8744634146341463\n",
      "Iteration:  850\n",
      "[6 0 9 ... 3 2 4] [5 0 9 ... 3 2 4]\n",
      "0.8747560975609756\n",
      "Iteration:  860\n",
      "[6 0 9 ... 3 2 4] [5 0 9 ... 3 2 4]\n",
      "0.8752682926829268\n",
      "Iteration:  870\n",
      "[6 0 9 ... 3 2 4] [5 0 9 ... 3 2 4]\n",
      "0.8757073170731707\n",
      "Iteration:  880\n",
      "[6 0 9 ... 3 2 4] [5 0 9 ... 3 2 4]\n",
      "0.8760975609756098\n",
      "Iteration:  890\n",
      "[6 0 9 ... 3 2 4] [5 0 9 ... 3 2 4]\n",
      "0.876609756097561\n",
      "Iteration:  900\n",
      "[6 0 9 ... 3 2 4] [5 0 9 ... 3 2 4]\n",
      "0.8769268292682927\n",
      "Iteration:  910\n",
      "[6 0 9 ... 3 2 4] [5 0 9 ... 3 2 4]\n",
      "0.8774634146341463\n",
      "Iteration:  920\n",
      "[6 0 9 ... 3 2 4] [5 0 9 ... 3 2 4]\n",
      "0.8777317073170732\n",
      "Iteration:  930\n",
      "[6 0 9 ... 3 2 4] [5 0 9 ... 3 2 4]\n",
      "0.8781707317073171\n",
      "Iteration:  940\n",
      "[6 0 9 ... 3 2 4] [5 0 9 ... 3 2 4]\n",
      "0.8787073170731707\n",
      "Iteration:  950\n",
      "[6 0 9 ... 3 2 4] [5 0 9 ... 3 2 4]\n",
      "0.8791951219512195\n",
      "Iteration:  960\n",
      "[6 0 9 ... 3 2 4] [5 0 9 ... 3 2 4]\n",
      "0.8795365853658537\n",
      "Iteration:  970\n",
      "[6 0 9 ... 3 2 4] [5 0 9 ... 3 2 4]\n",
      "0.8800731707317073\n",
      "Iteration:  980\n",
      "[6 0 9 ... 3 2 4] [5 0 9 ... 3 2 4]\n",
      "0.8803414634146342\n",
      "Iteration:  990\n",
      "[6 0 9 ... 3 2 4] [5 0 9 ... 3 2 4]\n",
      "0.8806829268292683\n"
     ]
    }
   ],
   "source": [
    "W1, b1, W2, b2 = gradient_descent(X_train, Y_train, 0.10, 1000)"
   ]
  },
  {
   "cell_type": "code",
   "execution_count": null,
   "id": "agricultural-given",
   "metadata": {
    "scrolled": false
   },
   "outputs": [
    {
     "name": "stdout",
     "output_type": "stream",
     "text": [
      "Iteration:  0\n",
      "[5 5 5 ... 0 5 5] [5 0 9 ... 3 2 4]\n",
      "0.09475609756097561\n",
      "Iteration:  10\n",
      "[5 5 5 ... 3 8 5] [5 0 9 ... 3 2 4]\n",
      "0.10514634146341463\n",
      "Iteration:  20\n",
      "[5 9 5 ... 3 6 5] [5 0 9 ... 3 2 4]\n",
      "0.1534390243902439\n",
      "Iteration:  30\n",
      "[8 0 5 ... 3 6 5] [5 0 9 ... 3 2 4]\n",
      "0.20075609756097562\n",
      "Iteration:  40\n",
      "[8 0 5 ... 3 6 5] [5 0 9 ... 3 2 4]\n",
      "0.24760975609756097\n",
      "Iteration:  50\n",
      "[8 0 5 ... 3 6 5] [5 0 9 ... 3 2 4]\n",
      "0.3004390243902439\n",
      "Iteration:  60\n",
      "[8 0 5 ... 3 6 5] [5 0 9 ... 3 2 4]\n",
      "0.34556097560975607\n",
      "Iteration:  70\n",
      "[8 0 5 ... 3 6 5] [5 0 9 ... 3 2 4]\n",
      "0.39634146341463417\n",
      "Iteration:  80\n",
      "[8 0 7 ... 3 6 5] [5 0 9 ... 3 2 4]\n",
      "0.45126829268292684\n",
      "Iteration:  90\n",
      "[8 0 7 ... 3 6 5] [5 0 9 ... 3 2 4]\n",
      "0.4979512195121951\n",
      "Iteration:  100\n",
      "[8 0 7 ... 3 6 5] [5 0 9 ... 3 2 4]\n",
      "0.5330975609756098\n",
      "Iteration:  110\n",
      "[8 0 7 ... 3 6 7] [5 0 9 ... 3 2 4]\n",
      "0.5633170731707317\n",
      "Iteration:  120\n",
      "[8 0 7 ... 3 6 7] [5 0 9 ... 3 2 4]\n",
      "0.5900731707317073\n",
      "Iteration:  130\n",
      "[8 0 7 ... 3 6 7] [5 0 9 ... 3 2 4]\n",
      "0.6117073170731707\n",
      "Iteration:  140\n",
      "[8 0 7 ... 3 6 7] [5 0 9 ... 3 2 4]\n",
      "0.6318292682926829\n",
      "Iteration:  150\n",
      "[8 0 7 ... 3 2 8] [5 0 9 ... 3 2 4]\n",
      "0.6502926829268293\n",
      "Iteration:  160\n",
      "[8 0 7 ... 3 2 8] [5 0 9 ... 3 2 4]\n",
      "0.6654146341463415\n",
      "Iteration:  170\n",
      "[8 0 7 ... 3 2 8] [5 0 9 ... 3 2 4]\n",
      "0.680219512195122\n",
      "Iteration:  180\n",
      "[8 0 7 ... 3 2 8] [5 0 9 ... 3 2 4]\n",
      "0.6949268292682926\n",
      "Iteration:  190\n",
      "[8 0 7 ... 3 2 8] [5 0 9 ... 3 2 4]\n",
      "0.7065609756097561\n",
      "Iteration:  200\n",
      "[8 0 7 ... 3 2 8] [5 0 9 ... 3 2 4]\n",
      "0.7180731707317073\n",
      "Iteration:  210\n",
      "[8 0 7 ... 3 2 8] [5 0 9 ... 3 2 4]\n",
      "0.7278292682926829\n",
      "Iteration:  220\n",
      "[8 0 7 ... 3 2 8] [5 0 9 ... 3 2 4]\n",
      "0.7366341463414634\n",
      "Iteration:  230\n",
      "[8 0 7 ... 3 2 8] [5 0 9 ... 3 2 4]\n",
      "0.7439024390243902\n",
      "Iteration:  240\n",
      "[8 0 9 ... 3 2 8] [5 0 9 ... 3 2 4]\n",
      "0.7506829268292683\n",
      "Iteration:  250\n",
      "[8 0 9 ... 3 2 8] [5 0 9 ... 3 2 4]\n",
      "0.7575609756097561\n",
      "Iteration:  260\n",
      "[8 0 9 ... 3 2 8] [5 0 9 ... 3 2 4]\n",
      "0.7641707317073171\n",
      "Iteration:  270\n",
      "[8 0 9 ... 3 2 8] [5 0 9 ... 3 2 4]\n",
      "0.7700243902439025\n",
      "Iteration:  280\n",
      "[8 0 9 ... 3 2 8] [5 0 9 ... 3 2 4]\n",
      "0.7751951219512195\n",
      "Iteration:  290\n",
      "[8 0 9 ... 3 2 9] [5 0 9 ... 3 2 4]\n",
      "0.7800731707317073\n",
      "Iteration:  300\n",
      "[8 0 9 ... 3 2 9] [5 0 9 ... 3 2 4]\n",
      "0.7847317073170732\n",
      "Iteration:  310\n",
      "[8 0 9 ... 3 2 9] [5 0 9 ... 3 2 4]\n",
      "0.7895853658536586\n",
      "Iteration:  320\n",
      "[8 0 9 ... 3 2 9] [5 0 9 ... 3 2 4]\n",
      "0.7940975609756098\n",
      "Iteration:  330\n",
      "[8 0 9 ... 3 2 9] [5 0 9 ... 3 2 4]\n",
      "0.7971219512195122\n",
      "Iteration:  340\n",
      "[8 0 9 ... 3 2 9] [5 0 9 ... 3 2 4]\n",
      "0.8004634146341464\n",
      "Iteration:  350\n",
      "[8 0 9 ... 3 2 9] [5 0 9 ... 3 2 4]\n",
      "0.8032439024390244\n",
      "Iteration:  360\n",
      "[8 0 9 ... 3 2 9] [5 0 9 ... 3 2 4]\n",
      "0.8060487804878049\n",
      "Iteration:  370\n",
      "[8 0 9 ... 3 2 9] [5 0 9 ... 3 2 4]\n",
      "0.809219512195122\n",
      "Iteration:  380\n",
      "[8 0 9 ... 3 2 9] [5 0 9 ... 3 2 4]\n",
      "0.8120243902439025\n",
      "Iteration:  390\n",
      "[8 0 9 ... 3 2 9] [5 0 9 ... 3 2 4]\n",
      "0.8148292682926829\n",
      "Iteration:  400\n",
      "[8 0 9 ... 3 2 9] [5 0 9 ... 3 2 4]\n",
      "0.8174878048780487\n",
      "Iteration:  410\n",
      "[8 0 9 ... 3 2 9] [5 0 9 ... 3 2 4]\n",
      "0.8198780487804878\n",
      "Iteration:  420\n",
      "[8 0 9 ... 3 2 9] [5 0 9 ... 3 2 4]\n",
      "0.8219024390243902\n",
      "Iteration:  430\n",
      "[8 0 9 ... 3 2 9] [5 0 9 ... 3 2 4]\n",
      "0.8244634146341463\n",
      "Iteration:  440\n",
      "[8 0 9 ... 3 2 9] [5 0 9 ... 3 2 4]\n",
      "0.826780487804878\n",
      "Iteration:  450\n",
      "[8 0 9 ... 3 2 9] [5 0 9 ... 3 2 4]\n",
      "0.8287317073170731\n",
      "Iteration:  460\n",
      "[8 0 9 ... 3 2 9] [5 0 9 ... 3 2 4]\n",
      "0.8304634146341463\n",
      "Iteration:  470\n",
      "[8 0 9 ... 3 2 9] [5 0 9 ... 3 2 4]\n",
      "0.8321219512195122\n",
      "Iteration:  480\n",
      "[8 0 9 ... 3 2 9] [5 0 9 ... 3 2 4]\n",
      "0.8338536585365853\n",
      "Iteration:  490\n",
      "[8 0 9 ... 3 2 9] [5 0 9 ... 3 2 4]\n",
      "0.8360487804878048\n",
      "Iteration:  500\n",
      "[8 0 9 ... 3 2 9] [5 0 9 ... 3 2 4]\n",
      "0.8379512195121951\n",
      "Iteration:  510\n",
      "[8 0 9 ... 3 2 9] [5 0 9 ... 3 2 4]\n",
      "0.8391463414634146\n",
      "Iteration:  520\n",
      "[8 0 9 ... 3 2 9] [5 0 9 ... 3 2 4]\n",
      "0.8406829268292683\n",
      "Iteration:  530\n",
      "[8 0 9 ... 3 2 9] [5 0 9 ... 3 2 4]\n",
      "0.8424878048780488\n",
      "Iteration:  540\n",
      "[8 0 9 ... 3 2 9] [5 0 9 ... 3 2 4]\n",
      "0.8442439024390244\n",
      "Iteration:  550\n",
      "[8 0 9 ... 3 2 9] [5 0 9 ... 3 2 4]\n",
      "0.8455121951219512\n",
      "Iteration:  560\n",
      "[8 0 9 ... 3 2 9] [5 0 9 ... 3 2 4]\n",
      "0.8465365853658536\n",
      "Iteration:  570\n",
      "[8 0 9 ... 3 2 9] [5 0 9 ... 3 2 4]\n",
      "0.8479268292682927\n",
      "Iteration:  580\n",
      "[8 0 9 ... 3 2 9] [5 0 9 ... 3 2 4]\n",
      "0.849\n",
      "Iteration:  590\n",
      "[8 0 9 ... 3 2 4] [5 0 9 ... 3 2 4]\n",
      "0.8503414634146341\n",
      "Iteration:  600\n",
      "[8 0 9 ... 3 2 4] [5 0 9 ... 3 2 4]\n",
      "0.8514878048780488\n",
      "Iteration:  610\n",
      "[8 0 9 ... 3 2 4] [5 0 9 ... 3 2 4]\n",
      "0.8525853658536585\n",
      "Iteration:  620\n",
      "[8 0 9 ... 3 2 4] [5 0 9 ... 3 2 4]\n",
      "0.8535121951219512\n",
      "Iteration:  630\n",
      "[8 0 9 ... 3 2 4] [5 0 9 ... 3 2 4]\n",
      "0.8547317073170732\n",
      "Iteration:  640\n",
      "[8 0 9 ... 3 2 4] [5 0 9 ... 3 2 4]\n",
      "0.8555365853658536\n",
      "Iteration:  650\n",
      "[8 0 9 ... 3 2 4] [5 0 9 ... 3 2 4]\n",
      "0.8564878048780488\n",
      "Iteration:  660\n",
      "[8 0 9 ... 3 2 4] [5 0 9 ... 3 2 4]\n",
      "0.8571707317073171\n",
      "Iteration:  670\n",
      "[8 0 9 ... 3 2 4] [5 0 9 ... 3 2 4]\n",
      "0.8581707317073171\n",
      "Iteration:  680\n",
      "[8 0 9 ... 3 2 4] [5 0 9 ... 3 2 4]\n",
      "0.8589024390243902\n",
      "Iteration:  690\n",
      "[8 0 9 ... 3 2 4] [5 0 9 ... 3 2 4]\n",
      "0.8600975609756097\n",
      "Iteration:  700\n",
      "[8 0 9 ... 3 2 4] [5 0 9 ... 3 2 4]\n",
      "0.8612195121951219\n",
      "Iteration:  710\n",
      "[8 0 9 ... 3 2 4] [5 0 9 ... 3 2 4]\n",
      "0.8623170731707317\n",
      "Iteration:  720\n",
      "[8 0 9 ... 3 2 4] [5 0 9 ... 3 2 4]\n",
      "0.8632682926829268\n",
      "Iteration:  730\n",
      "[8 0 9 ... 3 2 4] [5 0 9 ... 3 2 4]\n",
      "0.864\n",
      "Iteration:  740\n",
      "[8 0 9 ... 3 2 4] [5 0 9 ... 3 2 4]\n",
      "0.8647317073170732\n",
      "Iteration:  750\n",
      "[8 0 9 ... 3 2 4] [5 0 9 ... 3 2 4]\n",
      "0.8655121951219512\n",
      "Iteration:  760\n",
      "[8 0 9 ... 3 2 4] [5 0 9 ... 3 2 4]\n",
      "0.8661951219512195\n",
      "Iteration:  770\n",
      "[8 0 9 ... 3 2 4] [5 0 9 ... 3 2 4]\n",
      "0.8672439024390244\n",
      "Iteration:  780\n",
      "[8 0 9 ... 3 2 4] [5 0 9 ... 3 2 4]\n",
      "0.8678292682926829\n",
      "Iteration:  790\n",
      "[8 0 9 ... 3 2 4] [5 0 9 ... 3 2 4]\n",
      "0.8686829268292683\n",
      "Iteration:  800\n",
      "[8 0 9 ... 3 2 4] [5 0 9 ... 3 2 4]\n",
      "0.869390243902439\n",
      "Iteration:  810\n",
      "[8 0 9 ... 3 2 4] [5 0 9 ... 3 2 4]\n",
      "0.8700731707317073\n",
      "Iteration:  820\n",
      "[8 0 9 ... 3 2 4] [5 0 9 ... 3 2 4]\n",
      "0.8707073170731707\n",
      "Iteration:  830\n",
      "[8 0 9 ... 3 2 4] [5 0 9 ... 3 2 4]\n",
      "0.8712926829268293\n",
      "Iteration:  840\n",
      "[8 0 9 ... 3 2 4] [5 0 9 ... 3 2 4]\n",
      "0.8718536585365854\n",
      "Iteration:  850\n",
      "[8 0 9 ... 3 2 4] [5 0 9 ... 3 2 4]\n",
      "0.8722682926829268\n",
      "Iteration:  860\n",
      "[8 0 9 ... 3 2 4] [5 0 9 ... 3 2 4]\n",
      "0.8728780487804878\n",
      "Iteration:  870\n",
      "[8 0 9 ... 3 2 4] [5 0 9 ... 3 2 4]\n",
      "0.8735853658536585\n",
      "Iteration:  880\n",
      "[8 0 9 ... 3 2 4] [5 0 9 ... 3 2 4]\n",
      "0.8740243902439024\n",
      "Iteration:  890\n",
      "[8 0 9 ... 3 2 4] [5 0 9 ... 3 2 4]\n",
      "0.8745365853658537\n",
      "Iteration:  900\n",
      "[8 0 9 ... 3 2 4] [5 0 9 ... 3 2 4]\n",
      "0.8751951219512195\n",
      "Iteration:  910\n",
      "[8 0 9 ... 3 2 4] [5 0 9 ... 3 2 4]\n",
      "0.8758536585365854\n",
      "Iteration:  920\n",
      "[8 0 9 ... 3 2 4] [5 0 9 ... 3 2 4]\n",
      "0.8762682926829268\n",
      "Iteration:  930\n",
      "[8 0 9 ... 3 2 4] [5 0 9 ... 3 2 4]\n",
      "0.8766341463414634\n",
      "Iteration:  940\n",
      "[8 0 9 ... 3 2 4] [5 0 9 ... 3 2 4]\n",
      "0.8772682926829268\n",
      "Iteration:  950\n",
      "[8 0 9 ... 3 2 4] [5 0 9 ... 3 2 4]\n",
      "0.8777073170731707\n",
      "Iteration:  960\n",
      "[8 0 9 ... 3 2 4] [5 0 9 ... 3 2 4]\n",
      "0.8781951219512195\n",
      "Iteration:  970\n",
      "[8 0 9 ... 3 2 4] [5 0 9 ... 3 2 4]\n",
      "0.8785121951219512\n",
      "Iteration:  980\n",
      "[8 0 9 ... 3 2 4] [5 0 9 ... 3 2 4]\n",
      "0.8790731707317073\n",
      "Iteration:  990\n",
      "[8 0 9 ... 3 2 4] [5 0 9 ... 3 2 4]\n",
      "0.8796829268292683\n"
     ]
    }
   ],
   "source": [
    "W1, b1, W2, b2 = gradient_descent(X_train, Y_train, 0.10, 1000)"
   ]
  },
  {
   "cell_type": "code",
   "execution_count": null,
   "id": "uniform-mitchell",
   "metadata": {},
   "outputs": [],
   "source": [
    "def make_predictions(X, W1, b1, W2, b2):\n",
    "    _, _, _, A2 = forward_prop(W1, b1, W2, b2, X)\n",
    "    predictions = get_predictions(A2)\n",
    "    return predictions\n",
    "\n",
    "def test_prediction(index, W1, b1, W2, b2):\n",
    "    current_image = X_train[:, index, None]\n",
    "    prediction = make_predictions(X_train[:, index, None], W1, b1, W2, b2)\n",
    "    label = Y_train[index]\n",
    "    print(\"Prediction: \", prediction)\n",
    "    print(\"Label: \", label)\n",
    "    \n",
    "    current_image = current_image.reshape((28, 28)) * 255\n",
    "    plt.gray()\n",
    "    plt.imshow(current_image, interpolation='nearest')\n",
    "    plt.show()"
   ]
  },
  {
   "cell_type": "code",
   "execution_count": null,
   "id": "fifth-hobby",
   "metadata": {
    "scrolled": true
   },
   "outputs": [
    {
     "name": "stdout",
     "output_type": "stream",
     "text": [
      "Prediction:  [6]\n",
      "Label:  5\n"
     ]
    },
    {
     "data": {
      "image/png": "[encoded data removed]",
      "text/plain": [
       "<Figure size 432x288 with 1 Axes>"
      ]
     },
     "metadata": {
      "needs_background": "light"
     },
     "output_type": "display_data"
    },
    {
     "name": "stdout",
     "output_type": "stream",
     "text": [
      "Prediction:  [0]\n",
      "Label:  0\n"
     ]
    },
    {
     "data": {
      "image/png": "[encoded data removed]",
      "text/plain": [
       "<Figure size 432x288 with 1 Axes>"
      ]
     },
     "metadata": {
      "needs_background": "light"
     },
     "output_type": "display_data"
    },
    {
     "name": "stdout",
     "output_type": "stream",
     "text": [
      "Prediction:  [9]\n",
      "Label:  9\n"
     ]
    },
    {
     "data": {
      "image/png": "[encoded data removed]",
      "text/plain": [
       "<Figure size 432x288 with 1 Axes>"
      ]
     },
     "metadata": {
      "needs_background": "light"
     },
     "output_type": "display_data"
    },
    {
     "name": "stdout",
     "output_type": "stream",
     "text": [
      "Prediction:  [2]\n",
      "Label:  2\n"
     ]
    },
    {
     "data": {
      "image/png": "[encoded data removed]",
      "text/plain": [
       "<Figure size 432x288 with 1 Axes>"
      ]
     },
     "metadata": {
      "needs_background": "light"
     },
     "output_type": "display_data"
    },
    {
     "name": "stdout",
     "output_type": "stream",
     "text": [
      "Prediction:  [5]\n",
      "Label:  5\n"
     ]
    },
    {
     "data": {
      "image/png": "[encoded data removed]",
      "text/plain": [
       "<Figure size 432x288 with 1 Axes>"
      ]
     },
     "metadata": {
      "needs_background": "light"
     },
     "output_type": "display_data"
    },
    {
     "name": "stdout",
     "output_type": "stream",
     "text": [
      "Prediction:  [5]\n",
      "Label:  0\n"
     ]
    },
    {
     "data": {
      "image/png": "[encoded data removed]",
      "text/plain": [
       "<Figure size 432x288 with 1 Axes>"
      ]
     },
     "metadata": {
      "needs_background": "light"
     },
     "output_type": "display_data"
    },
    {
     "name": "stdout",
     "output_type": "stream",
     "text": [
      "Prediction:  [7]\n",
      "Label:  9\n"
     ]
    },
    {
     "data": {
      "image/png": "[encoded data removed]",
      "text/plain": [
       "<Figure size 432x288 with 1 Axes>"
      ]
     },
     "metadata": {
      "needs_background": "light"
     },
     "output_type": "display_data"
    },
    {
     "name": "stdout",
     "output_type": "stream",
     "text": [
      "Prediction:  [7]\n",
      "Label:  9\n"
     ]
    },
    {
     "data": {
      "image/png": "[encoded data removed]",
      "text/plain": [
       "<Figure size 432x288 with 1 Axes>"
      ]
     },
     "metadata": {
      "needs_background": "light"
     },
     "output_type": "display_data"
    },
    {
     "name": "stdout",
     "output_type": "stream",
     "text": [
      "Prediction:  [4]\n",
      "Label:  4\n"
     ]
    },
    {
     "data": {
      "image/png": "[encoded data removed]",
      "text/plain": [
       "<Figure size 432x288 with 1 Axes>"
      ]
     },
     "metadata": {
      "needs_background": "light"
     },
     "output_type": "display_data"
    },
    {
     "name": "stdout",
     "output_type": "stream",
     "text": [
      "Prediction:  [6]\n",
      "Label:  6\n"
     ]
    },
    {
     "data": {
      "image/png": "[encoded data removed]",
      "text/plain": [
       "<Figure size 432x288 with 1 Axes>"
      ]
     },
     "metadata": {
      "needs_background": "light"
     },
     "output_type": "display_data"
    }
   ],
   "source": [
    "test_prediction(0, W1, b1, W2, b2)\n",
    "test_prediction(1, W1, b1, W2, b2)\n",
    "test_prediction(2, W1, b1, W2, b2)\n",
    "test_prediction(3, W1, b1, W2, b2)\n",
    "test_prediction(4, W1, b1, W2, b2)\n",
    "test_prediction(5, W1, b1, W2, b2)\n",
    "test_prediction(6, W1, b1, W2, b2)\n",
    "test_prediction(7, W1, b1, W2, b2)\n",
    "test_prediction(8, W1, b1, W2, b2)\n",
    "test_prediction(9, W1, b1, W2, b2)"
   ]
  },
  {
   "cell_type": "code",
   "execution_count": null,
   "id": "cathedral-stomach",
   "metadata": {},
   "outputs": [],
   "source": []
  }
 ],
 "metadata": {
  "interpreter": {
   "hash": "082e9a3bcad0a290d0001e938aa60b99250c6c2ef33a923c00b70f9826caf4b7"
  },
  "kernelspec": {
   "display_name": "Python 3",
   "language": "python",
   "name": "python3"
  },
  "language_info": {
   "codemirror_mode": {
    "name": "ipython",
    "version": 3
   },
   "file_extension": ".py",
   "mimetype": "text/x-python",
   "name": "python",
   "nbconvert_exporter": "python",
   "pygments_lexer": "ipython3",
   "version": "3.8.2"
  }
 },
 "nbformat": 4,
 "nbformat_minor": 5
}
